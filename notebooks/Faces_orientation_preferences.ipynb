{
 "cells": [
  {
   "cell_type": "code",
   "execution_count": null,
   "metadata": {},
   "outputs": [],
   "source": [
    "import matplotlib.pyplot as plt\n",
    "import numpy as np\n",
    "import torch\n",
    "from src.utils.images import plot_matrix, debug, plot_array_matrix\n",
    "%autosave 60"
   ]
  },
  {
   "cell_type": "code",
   "execution_count": null,
   "metadata": {},
   "outputs": [],
   "source": [
    "from src.utils.datasets import CKDataset\n",
    "size = 96\n",
    "# ck_dataset = CKDataset()\n",
    "gaussians_inputs = foo(3000)"
   ]
  },
  {
   "cell_type": "code",
   "execution_count": null,
   "metadata": {},
   "outputs": [],
   "source": [
    "from src.supervised_gcal.models import get_full_lissom\n",
    "from src.supervised_gcal.optimizers import SequentialOptimizer, SimpleHebbian, NeighborsDecay\n",
    "input_shape = (size, size)\n",
    "cortex_shape = input_shape\n",
    "lgn_shape = cortex_shape\n",
    "\n",
    "radius_aff = 8\n",
    "radius_excit = 5\n",
    "radius_inhib = 10\n",
    "pruning_step = len(gaussians_inputs)-1\n",
    "v1_params = {'min_theta':0.1, 'max_theta':0.65, 'afferent_radius':radius_aff,\n",
    "                                             'excitatory_radius':radius_excit, 'inhibitory_radius':radius_inhib, \n",
    "                                             'settling_steps':9, 'inhib_factor':0.9, 'excit_factor':0.9}\n",
    "\n",
    "lissom, _, _ = get_full_lissom(input_shape, lgn_shape, cortex_shape, v1_params=v1_params)\n",
    "optimizer = SequentialOptimizer(\n",
    "                SimpleHebbian(cortex_layer=lissom.v1, learning_rate=0.9590, weight='afferent_weights'),\n",
    "                SimpleHebbian(cortex_layer=lissom.v1, learning_rate=2.55528, weight='excitatory_weights'),\n",
    "                SimpleHebbian(cortex_layer=lissom.v1, learning_rate=1.80873, weight='inhibitory_weights'))"
   ]
  },
  {
   "cell_type": "code",
   "execution_count": null,
   "metadata": {},
   "outputs": [],
   "source": [
    "from src.utils.pipeline import Pipeline\n",
    "from torch.utils.data import DataLoader\n",
    "train_loader = DataLoader(gaussians_inputs, shuffle=True, pin_memory=True)\n",
    "pipe = Pipeline(lissom, optimizer, cuda=True, log_interval=100)"
   ]
  },
  {
   "cell_type": "code",
   "execution_count": null,
   "metadata": {},
   "outputs": [],
   "source": [
    "from src.utils.datasets import CKDataset\n",
    "size = 96\n",
    "ck_dataset = CKDataset()\n",
    "from torch.utils.data import DataLoader\n",
    "train_loader = DataLoader(ck_dataset, shuffle=True, pin_memory=True)"
   ]
  },
  {
   "cell_type": "code",
   "execution_count": null,
   "metadata": {
    "scrolled": true
   },
   "outputs": [],
   "source": [
    "from src.utils.pipeline import Pipeline\n",
    "lissom.cuda()\n",
    "for inp, _ in train_loader:\n",
    "    inp = torch.autograd.Variable(inp)\n",
    "    inp = Pipeline.process_input(inp)\n",
    "    inp = inp.cuda()\n",
    "    act = lissom.on(inp)\n",
    "    plot_matrix(np.reshape(act.data.cpu().numpy(), cortex_shape))\n",
    "    act_old = act\n",
    "    act = lissom.off(inp)\n",
    "    act = act + act_old\n",
    "    act = lissom(inp)\n",
    "    break"
   ]
  },
  {
   "cell_type": "code",
   "execution_count": null,
   "metadata": {
    "scrolled": true
   },
   "outputs": [],
   "source": [
    "from tqdm import tqdm_notebook as tqdm\n",
    "for epoch in tqdm(range(epochs)):\n",
    "    pipe.train(train_loader, epoch)"
   ]
  },
  {
   "cell_type": "code",
   "execution_count": null,
   "metadata": {},
   "outputs": [],
   "source": [
    "from src.supervised_gcal.utils.images import images_matrix\n",
    "plot_matrix(np.transpose(images_matrix(lissom.v1.inhibitory_weights.data, (0,1)).cpu().numpy()*500, (1,2,0)))"
   ]
  },
  {
   "cell_type": "code",
   "execution_count": null,
   "metadata": {
    "scrolled": true
   },
   "outputs": [],
   "source": [
    "from src.supervised_gcal.utils.orientation_maps import calculate_keys_activations\n",
    "keys_arrays = generate_all_inputs(size, orientations=13)\n",
    "lissom.cuda()\n",
    "activations = calculate_keys_activations(lissom, keys_arrays)"
   ]
  }
 ],
 "metadata": {
  "kernelspec": {
   "display_name": "Python 3",
   "language": "python",
   "name": "python3"
  },
  "language_info": {
   "codemirror_mode": {
    "name": "ipython",
    "version": 3
   },
   "file_extension": ".py",
   "mimetype": "text/x-python",
   "name": "python",
   "nbconvert_exporter": "python",
   "pygments_lexer": "ipython3",
   "version": "3.6.2"
  }
 },
 "nbformat": 4,
 "nbformat_minor": 2
}
