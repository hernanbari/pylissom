{
 "cells": [
  {
   "cell_type": "code",
   "execution_count": 4,
   "metadata": {
    "scrolled": true
   },
   "outputs": [
    {
     "data": {
      "application/javascript": [
       "IPython.notebook.set_autosave_interval(60000)"
      ]
     },
     "metadata": {},
     "output_type": "display_data"
    },
    {
     "name": "stdout",
     "output_type": "stream",
     "text": [
      "Autosaving every 60 seconds\n"
     ]
    }
   ],
   "source": [
    "import matplotlib.pyplot as plt\n",
    "import numpy as np\n",
    "import torch\n",
    "from src.utils.images import plot_matrix, debug, plot_array_matrix\n",
    "%autosave 60"
   ]
  },
  {
   "cell_type": "code",
   "execution_count": 17,
   "metadata": {},
   "outputs": [],
   "source": [
    "size = 54\n",
    "count = 10000"
   ]
  },
  {
   "cell_type": "code",
   "execution_count": 7,
   "metadata": {
    "scrolled": true
   },
   "outputs": [],
   "source": [
    "from src.supervised_gcal.models import get_full_lissom\n",
    "from src.supervised_gcal.optimizers import SequentialOptimizer, SimpleHebbian, NeighborsDecay\n",
    "input_shape = (size, size)\n",
    "epochs = 1\n",
    "\n",
    "lgn_size=36\n",
    "lgn_shape = (lgn_size, lgn_size)\n",
    "sigma_sorround=0.29540/2 *24\n",
    "sigma_center=0.07385/2 * 24\n",
    "lgn_radius = 0.375*size\n",
    "lgn_factor = 2.33\n",
    "lgn_params = {'sigma_center':sigma_center, 'sigma_sorround':sigma_sorround, \n",
    "                'lgn_factor':lgn_factor, 'radius':lgn_radius}\n",
    "\n",
    "cortex_size = 48\n",
    "cortex_shape = (cortex_size, cortex_size)\n",
    "radius_aff = 0.27083 * 24\n",
    "radius_excit = 0.10417* cortex_size\n",
    "radius_inhib = 0.22917*cortex_size\n",
    "aff_factor = 1.0\n",
    "excit_factor = 0.9\n",
    "inhib_factor = 0.9\n",
    "min_theta = 0.083\n",
    "max_theta = 0.633\n",
    "v1_params = {'min_theta':min_theta, 'max_theta':max_theta, \n",
    "             'afferent_radius':radius_aff, 'excitatory_radius':radius_excit, 'inhibitory_radius':radius_inhib, \n",
    "             'inhib_factor':inhib_factor, 'excit_factor':excit_factor, 'aff_factor':aff_factor, \n",
    "             'settling_steps':9}\n",
    "\n",
    "\n",
    "lissom, _, _ = get_full_lissom(input_shape, lgn_shape, cortex_shape, lgn_params=lgn_params, v1_params=v1_params)\n",
    "\n",
    "aff_lr = 0.9590\n",
    "exc_lr = 2.55528\n",
    "inh_lr = 1.80873\n",
    "optimizer = SequentialOptimizer(\n",
    "                SimpleHebbian(cortex_layer=lissom.v1, learning_rate=aff_lr, weight='afferent_weights'),\n",
    "                SimpleHebbian(cortex_layer=lissom.v1, learning_rate=exc_lr, weight='excitatory_weights'),\n",
    "                SimpleHebbian(cortex_layer=lissom.v1, learning_rate=inh_lr, weight='inhibitory_weights'))"
   ]
  },
  {
   "cell_type": "code",
   "execution_count": 24,
   "metadata": {},
   "outputs": [],
   "source": [
    "from src.utils.pipeline import Pipeline\n",
    "from torch.utils.data import Dataset, DataLoader\n",
    "train_loader = DataLoader(gaussians_inputs, shuffle=True, pin_memory=True)\n",
    "pipe = Pipeline(lissom, optimizer, cuda=True, log_interval=100)"
   ]
  },
  {
   "cell_type": "code",
   "execution_count": null,
   "metadata": {
    "scrolled": true
   },
   "outputs": [],
   "source": [
    "from tqdm import tqdm_notebook as tqdm\n",
    "for epoch in tqdm(range(epochs)):\n",
    "    pipe.train(train_loader, epoch)"
   ]
  },
  {
   "cell_type": "code",
   "execution_count": null,
   "metadata": {},
   "outputs": [],
   "source": [
    "from src.utils.datasets import CKDataset\n",
    "size = 96\n",
    "ck_dataset = CKDataset()\n",
    "from torch.utils.data import DataLoader\n",
    "train_loader = DataLoader(ck_dataset, shuffle=True, pin_memory=True)"
   ]
  },
  {
   "cell_type": "code",
   "execution_count": 25,
   "metadata": {
    "collapsed": true
   },
   "outputs": [
    {
     "data": {
      "image/png": "[encoded data removed]",
      "text/plain": [
       "<matplotlib.figure.Figure at 0x7fa8f63f6320>"
      ]
     },
     "metadata": {},
     "output_type": "display_data"
    },
    {
     "data": {
      "image/png": "[encoded data removed]",
      "text/plain": [
       "<matplotlib.figure.Figure at 0x7fa8f6205ef0>"
      ]
     },
     "metadata": {},
     "output_type": "display_data"
    },
    {
     "data": {
      "image/png": "[encoded data removed]",
      "text/plain": [
       "<matplotlib.figure.Figure at 0x7fa8f497deb8>"
      ]
     },
     "metadata": {},
     "output_type": "display_data"
    },
    {
     "data": {
      "image/png": "[encoded data removed]",
      "text/plain": [
       "<matplotlib.figure.Figure at 0x7fa8f6557b70>"
      ]
     },
     "metadata": {},
     "output_type": "display_data"
    },
    {
     "data": {
      "image/png": "[encoded data removed]",
      "text/plain": [
       "<matplotlib.figure.Figure at 0x7fa8f49cd240>"
      ]
     },
     "metadata": {},
     "output_type": "display_data"
    },
    {
     "data": {
      "image/png": "[encoded data removed]",
      "text/plain": [
       "<matplotlib.figure.Figure at 0x7fa8f490bdd8>"
      ]
     },
     "metadata": {},
     "output_type": "display_data"
    },
    {
     "data": {
      "image/png": "[encoded data removed]",
      "text/plain": [
       "<matplotlib.figure.Figure at 0x7fa8f497d9e8>"
      ]
     },
     "metadata": {},
     "output_type": "display_data"
    }
   ],
   "source": [
    "from src.utils.pipeline import Pipeline\n",
    "lissom.cuda()\n",
    "for inp, _ in train_loader:\n",
    "    inp = torch.autograd.Variable(inp)\n",
    "    inp = Pipeline.process_input(inp)\n",
    "    inp = inp.cuda()\n",
    "    act = lissom(inp)\n",
    "    plot_matrix(np.reshape(act.data.cpu().numpy(), cortex_shape))\n",
    "    break"
   ]
  },
  {
   "cell_type": "code",
   "execution_count": null,
   "metadata": {
    "scrolled": true
   },
   "outputs": [],
   "source": [
    "import src.supervised_gcal.utils.orientation_maps as om\n",
    "\n",
    "keys_arrays = generate_all_inputs(size, orientations=25)\n",
    "activations = om.calculate_keys_activations(lissom, keys_arrays)"
   ]
  },
  {
   "cell_type": "code",
   "execution_count": null,
   "metadata": {
    "scrolled": true
   },
   "outputs": [],
   "source": [
    "from src.utils.images import plot_array_matrix\n",
    "from src.supervised_gcal.utils.images import images_matrix\n",
    "plot_array_matrix(map(lambda x:x.view(cortex_size, cortex_size).cpu().numpy(), list(activations.values())))"
   ]
  },
  {
   "cell_type": "code",
   "execution_count": null,
   "metadata": {
    "scrolled": true
   },
   "outputs": [],
   "source": [
    "from src.supervised_gcal.utils.orientation_maps import get_orientation_map\n",
    "orientation_map = get_orientation_map(activations, cortex_shape)\n",
    "%matplotlib inline\n",
    "plt.figure(figsize=(5, 5))\n",
    "plt.colorbar()"
   ]
  },
  {
   "cell_type": "code",
   "execution_count": null,
   "metadata": {},
   "outputs": [],
   "source": [
    "from collections import Counter\n",
    "\n",
    "plt.show()\n",
    "\n",
    "print(\"Promedio: {}\".format(np.mean(normalized)))\n",
    "print(\"Standard deviation: {}\".format(np.std(normalized)))"
   ]
  }
 ],
 "metadata": {
  "kernelspec": {
   "display_name": "Python 3",
   "language": "python",
   "name": "python3"
  },
  "language_info": {
   "codemirror_mode": {
    "name": "ipython",
    "version": 3
   },
   "file_extension": ".py",
   "mimetype": "text/x-python",
   "name": "python",
   "nbconvert_exporter": "python",
   "pygments_lexer": "ipython3",
   "version": "3.6.2"
  }
 },
 "nbformat": 4,
 "nbformat_minor": 2
}
