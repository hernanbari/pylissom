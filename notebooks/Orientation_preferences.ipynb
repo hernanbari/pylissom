{
 "cells": [
  {
   "cell_type": "code",
   "execution_count": null,
   "metadata": {
    "collapsed": true
   },
   "outputs": [],
   "source": [
    "from tqdm import tqdm_notebook as tqdm\n",
    "import matplotlib.pyplot as plt\n",
    "import numpy as np\n",
    "import torch"
   ]
  },
  {
   "cell_type": "code",
   "execution_count": null,
   "metadata": {
    "collapsed": true
   },
   "outputs": [],
   "source": [
    "from pylissom.utils.training import Pipeline\n",
    "from torch.utils.data import Dataset, DataLoader\n",
    "from pylissom.datasets.datasets import OrientatedGaussians, ThreeDotFaces"
   ]
  },
  {
   "cell_type": "code",
   "execution_count": null,
   "metadata": {
    "scrolled": true
   },
   "outputs": [],
   "source": [
    "from pylissom.models.models import get_lissom \n",
    "from pylissom.utils.plotting import *\n",
    "from pylissom.utils.helpers import debug"
   ]
  },
  {
   "cell_type": "markdown",
   "metadata": {},
   "source": [
    "###### If this takes more than 5 seconds,  it's a problem with the pytorch and cuda versions, only happens first time cuda is called\n",
    "###### If this takes more than 30 seconds, maybe your cuda is broken"
   ]
  },
  {
   "cell_type": "code",
   "execution_count": null,
   "metadata": {},
   "outputs": [],
   "source": [
    "import torch\n",
    "foo = torch.Tensor(2)\n",
    "%time foo.cuda()"
   ]
  },
  {
   "cell_type": "markdown",
   "metadata": {},
   "source": [
    "## Training variables"
   ]
  },
  {
   "cell_type": "code",
   "execution_count": null,
   "metadata": {
    "collapsed": true
   },
   "outputs": [],
   "source": [
    "size = 24\n",
    "count = 10000\n",
    "epochs = 1\n",
    "cuda = False\n",
    "gaussians_per_image = 2"
   ]
  },
  {
   "cell_type": "markdown",
   "metadata": {},
   "source": [
    "## Init and train Lissom"
   ]
  },
  {
   "cell_type": "code",
   "execution_count": null,
   "metadata": {
    "scrolled": true
   },
   "outputs": [],
   "source": [
    "lissom, optimizer, _ = get_lissom(retinal_density=size, lgn_params='lgn', rlissom_params='rlissom', optim_params='optim')\n",
    "display(lissom)"
   ]
  },
  {
   "cell_type": "code",
   "execution_count": null,
   "metadata": {
    "collapsed": true,
    "scrolled": false
   },
   "outputs": [],
   "source": [
    "gaussians_inputs = OrientatedGaussians(size=size, length=count, gaussians=gaussians_per_image)\n",
    "# gaussians_inputs.cuda()\n",
    "gaussians_inputs = ThreeDotFaces(size=size, length=count, faces=1)\n",
    "train_loader = DataLoader(gaussians_inputs, shuffle=True, pin_memory=False)"
   ]
  },
  {
   "cell_type": "code",
   "execution_count": null,
   "metadata": {
    "collapsed": true
   },
   "outputs": [],
   "source": [
    "sample, test_sample = iter(train_loader).next()"
   ]
  },
  {
   "cell_type": "code",
   "execution_count": null,
   "metadata": {},
   "outputs": [],
   "source": [
    "plot_tensor(sample, shape=(size, size))"
   ]
  },
  {
   "cell_type": "code",
   "execution_count": null,
   "metadata": {
    "collapsed": true
   },
   "outputs": [],
   "source": [
    "pipe = Pipeline(lissom, optimizer, cuda=cuda, log_interval=10)"
   ]
  },
  {
   "cell_type": "markdown",
   "metadata": {},
   "source": [
    "## Inpect activation"
   ]
  },
  {
   "cell_type": "code",
   "execution_count": null,
   "metadata": {},
   "outputs": [],
   "source": [
    "gauss, _ = iter(train_loader).next()\n",
    "plot_tensor(gauss, (size, size), vmin=-1, vmax=1)"
   ]
  },
  {
   "cell_type": "code",
   "execution_count": null,
   "metadata": {
    "scrolled": true
   },
   "outputs": [],
   "source": [
    "from pylissom.nn.modules.lissom import *\n",
    "from pylissom.nn.modules import register_recursive_forward_hook, input_output_hook\n",
    "\n",
    "register_recursive_forward_hook(lissom, input_output_hook)\n",
    "inp = Pipeline.process_input(torch.autograd.Variable(gauss))\n",
    "out = lissom(inp)\n",
    "plot_layer_activation(lissom, 'lissom')"
   ]
  },
  {
   "cell_type": "markdown",
   "metadata": {},
   "source": [
    "## Train"
   ]
  },
  {
   "cell_type": "code",
   "execution_count": null,
   "metadata": {},
   "outputs": [],
   "source": [
    "pipe.train(train_loader, epoch=0)"
   ]
  },
  {
   "cell_type": "markdown",
   "metadata": {},
   "source": [
    "## Calculate Orientations Maps"
   ]
  },
  {
   "cell_type": "code",
   "execution_count": null,
   "metadata": {
    "collapsed": true
   },
   "outputs": [],
   "source": [
    "from pylissom.utils.orientation_maps import *\n",
    "orientations = 180\n",
    "\n",
    "keys_arrays = get_oriented_lines(size, orientations=orientations)"
   ]
  },
  {
   "cell_type": "code",
   "execution_count": null,
   "metadata": {
    "collapsed": true
   },
   "outputs": [],
   "source": [
    "keys_arrays = {k: map(lambda l: torch.autograd.Variable(l.cuda()), lines) for k, lines in keys_arrays.items()}"
   ]
  },
  {
   "cell_type": "code",
   "execution_count": null,
   "metadata": {},
   "outputs": [],
   "source": [
    "om = OrientationMap(model=lissom, inputs=keys_arrays)\n",
    "\n",
    "orientation_map = om.get_orientation_map()\n",
    "orientation_hist = om.get_orientation_hist()"
   ]
  },
  {
   "cell_type": "code",
   "execution_count": null,
   "metadata": {},
   "outputs": [],
   "source": [
    "plot_orientation_map(orientation_map)\n",
    "plt.colorbar()\n",
    "plt.show()"
   ]
  },
  {
   "cell_type": "code",
   "execution_count": null,
   "metadata": {},
   "outputs": [],
   "source": [
    "plot_orientation_hist(orientation_hist)\n",
    "plt.show()\n",
    "\n",
    "mean, std = metrics_orientation_hist(orientation_hist)\n",
    "print(\"Promedio: %{:.2f}\".format(mean*100))\n",
    "print(\"Standard deviation: %{:.2f}\".format(std*100))"
   ]
  }
 ],
 "metadata": {
  "kernelspec": {
   "display_name": "Python 3",
   "language": "python",
   "name": "python3"
  },
  "language_info": {
   "codemirror_mode": {
    "name": "ipython",
    "version": 3
   },
   "file_extension": ".py",
   "mimetype": "text/x-python",
   "name": "python",
   "nbconvert_exporter": "python",
   "pygments_lexer": "ipython3",
   "version": "3.6.2"
  }
 },
 "nbformat": 4,
 "nbformat_minor": 2
}
