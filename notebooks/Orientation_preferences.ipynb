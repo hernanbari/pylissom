{
 "cells": [
  {
   "cell_type": "code",
   "execution_count": 1,
   "metadata": {
    "scrolled": true
   },
   "outputs": [
    {
     "data": {
      "application/javascript": [
       "IPython.notebook.set_autosave_interval(60000)"
      ]
     },
     "metadata": {},
     "output_type": "display_data"
    },
    {
     "name": "stdout",
     "output_type": "stream",
     "text": [
      "Autosaving every 60 seconds\n"
     ]
    }
   ],
   "source": [
    "from tqdm import tqdm_notebook as tqdm\n",
    "import matplotlib.pyplot as plt\n",
    "import numpy as np\n",
    "import torch\n",
    "\n",
    "%autosave 60\n",
    "%load_ext line_profiler"
   ]
  },
  {
   "cell_type": "code",
   "execution_count": 2,
   "metadata": {},
   "outputs": [],
   "source": [
    "from src.utils.pipeline import Pipeline\n",
    "from torch.utils.data import Dataset, DataLoader\n",
    "from src.utils.datasets import OrientatedGaussians\n",
    "\n",
    "from src.supervised_gcal.models import get_lissom \n",
    "from src.utils.images import plot_matrix, debug, plot_array_matrix"
   ]
  },
  {
   "cell_type": "code",
   "execution_count": null,
   "metadata": {
    "collapsed": true
   },
   "outputs": [],
   "source": [
    "size = 24\n",
    "count = 10000\n",
    "epochs = 1\n",
    "orientations = 25"
   ]
  },
  {
   "cell_type": "code",
   "execution_count": 4,
   "metadata": {
    "scrolled": false
   },
   "outputs": [],
   "source": [
    "lissom, optimizer, _ = get_lissom(retinal_density=size, lgn_params='lgn', rlissom_params='rlissom', optim_params='optim')\n",
    "display(lissom)"
   ]
  },
  {
   "cell_type": "code",
   "execution_count": 6,
   "metadata": {},
   "outputs": [],
   "source": [
    "gaussians_inputs = OrientatedGaussians(size=size, length=count)\n",
    "train_loader = DataLoader(gaussians_inputs, shuffle=True, pin_memory=False)\n",
    "pipe = Pipeline(lissom, optimizer, cuda=True, log_interval=10)"
   ]
  },
  {
   "cell_type": "code",
   "execution_count": null,
   "metadata": {},
   "outputs": [
    {
     "data": {
      "application/vnd.jupyter.widget-view+json": {
       "model_id": "c5782226eb5249a39b4711ec97aed1e8",
       "version_major": 2,
       "version_minor": 0
      },
      "text/plain": [
       "HBox(children=(IntProgress(value=0, max=10000), HTML(value='')))"
      ]
     },
     "metadata": {},
     "output_type": "display_data"
    }
   ],
   "source": [
    "pipe.train(train_loader, epoch=0)"
   ]
  },
  {
   "cell_type": "code",
   "execution_count": null,
   "metadata": {
    "collapsed": true
   },
   "outputs": [],
   "source": [
    "# from src.utils.datasets import CKDataset\n",
    "# size = 96\n",
    "# ck_dataset = CKDataset()\n",
    "# from torch.utils.data import DataLoader\n",
    "# train_loader = DataLoader(ck_dataset, shuffle=True, pin_memory=True)"
   ]
  },
  {
   "cell_type": "code",
   "execution_count": null,
   "metadata": {},
   "outputs": [],
   "source": [
    "from src.utils.pipeline import Pipeline\n",
    "# lissom.cuda()\n",
    "for inp, _ in train_loader:\n",
    "    inp = torch.autograd.Variable(inp)\n",
    "    inp = Pipeline.process_input(inp)\n",
    "#     inp = inp.cuda()\n",
    "    act = lissom(inp)\n",
    "    plot_matrix(np.reshape(act.data.cpu().numpy(), cortex_shape))\n",
    "    break"
   ]
  },
  {
   "cell_type": "code",
   "execution_count": null,
   "metadata": {
    "collapsed": true
   },
   "outputs": [],
   "source": [
    "from src.supervised_gcal.orientation_maps import OrientationMap\n",
    "from src.supervised_gcal.orientation_maps import get_oriented_lines\n",
    "\n",
    "keys_arrays = get_oriented_lines(size, orientations=orientations)"
   ]
  },
  {
   "cell_type": "code",
   "execution_count": null,
   "metadata": {},
   "outputs": [],
   "source": [
    "keys_arrays = {k: map(torch.autograd.Variable, lines) for k, lines in keys_arrays.items()}"
   ]
  },
  {
   "cell_type": "code",
   "execution_count": null,
   "metadata": {
    "scrolled": false
   },
   "outputs": [],
   "source": [
    "om = OrientationMap(model=lissom, inputs=keys_arrays)\n",
    "\n",
    "orientation_map = om.get_orientation_map()\n",
    "orientation_hist = om.get_orientation_hist()"
   ]
  },
  {
   "cell_type": "code",
   "execution_count": null,
   "metadata": {},
   "outputs": [],
   "source": [
    "from src.supervised_gcal.orientation_maps import plot_orientation_map\n",
    "plot_orientation_map(orientation_map)\n",
    "plt.colorbar()\n",
    "plt.show()"
   ]
  },
  {
   "cell_type": "code",
   "execution_count": null,
   "metadata": {},
   "outputs": [],
   "source": [
    "from src.supervised_gcal.orientation_maps import plot_orientation_hist, metrics_orientation_hist\n",
    "plot_orientation_hist(orientation_hist)\n",
    "plt.show()\n",
    "\n",
    "mean, std = metrics_orientation_hist(orientation_hist)\n",
    "print(\"Promedio: %{:.2f}\".format(mean*100))\n",
    "print(\"Standard deviation: %{:.2f}\".format(std*100))"
   ]
  },
  {
   "cell_type": "code",
   "execution_count": null,
   "metadata": {
    "collapsed": true
   },
   "outputs": [],
   "source": []
  },
  {
   "cell_type": "code",
   "execution_count": null,
   "metadata": {
    "collapsed": true
   },
   "outputs": [],
   "source": [
    "d"
   ]
  }
 ],
 "metadata": {
  "kernelspec": {
   "display_name": "Python 3",
   "language": "python",
   "name": "python3"
  },
  "language_info": {
   "codemirror_mode": {
    "name": "ipython",
    "version": 3
   },
   "file_extension": ".py",
   "mimetype": "text/x-python",
   "name": "python",
   "nbconvert_exporter": "python",
   "pygments_lexer": "ipython3",
   "version": "3.6.2"
  }
 },
 "nbformat": 4,
 "nbformat_minor": 2
}
