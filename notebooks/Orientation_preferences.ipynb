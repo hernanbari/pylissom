{
 "cells": [
  {
   "cell_type": "code",
   "execution_count": 3,
   "metadata": {
    "scrolled": false
   },
   "outputs": [
    {
     "data": {
      "application/javascript": [
       "IPython.notebook.set_autosave_interval(60000)"
      ]
     },
     "metadata": {},
     "output_type": "display_data"
    },
    {
     "name": "stdout",
     "output_type": "stream",
     "text": [
      "Autosaving every 60 seconds\n"
     ]
    }
   ],
   "source": [
    "import matplotlib.pyplot as plt\n",
    "import numpy as np\n",
    "import torch\n",
    "from src.utils.images import plot_matrix, debug, plot_array_matrix\n",
    "%autosave 60"
   ]
  },
  {
   "cell_type": "code",
   "execution_count": 4,
   "metadata": {
    "collapsed": true
   },
   "outputs": [],
   "source": [
    "size = 54\n",
    "count = 10000"
   ]
  },
  {
   "cell_type": "code",
   "execution_count": 5,
   "metadata": {
    "collapsed": true
   },
   "outputs": [],
   "source": [
    "from src.supervised_gcal.models import get_lissom\n",
    "from src.supervised_gcal.optimizers import SequentialOptimizer, CortexHebbian, NeighborsDecay\n",
    "input_shape = (size, size)\n",
    "epochs = 1\n",
    "\n",
    "lgn_size=36\n",
    "lgn_shape = (lgn_size, lgn_size)\n",
    "sigma_sorround=0.29540/2 *24\n",
    "sigma_center=0.07385/2 * 24\n",
    "lgn_radius = 0.375*size\n",
    "lgn_factor = 2.33\n",
    "lgn_params = {'sigma_center':sigma_center, 'sigma_sorround':sigma_sorround, \n",
    "                'lgn_factor':lgn_factor, 'radius':lgn_radius}"
   ]
  },
  {
   "cell_type": "code",
   "execution_count": 6,
   "metadata": {},
   "outputs": [
    {
     "name": "stdout",
     "output_type": "stream",
     "text": [
      "36\n",
      "(36, 36)\n",
      "3.5448\n",
      "0.8862\n",
      "20.25\n",
      "2.33\n",
      "{'sigma_center': 0.8862, 'sigma_sorround': 3.5448, 'lgn_factor': 2.33, 'radius': 20.25}\n"
     ]
    }
   ],
   "source": [
    "\n",
    "print(lgn_size)\n",
    "print(lgn_shape)\n",
    "print(sigma_sorround)\n",
    "print(sigma_center)\n",
    "print(lgn_radius)\n",
    "print(lgn_factor)\n",
    "print(lgn_params)"
   ]
  },
  {
   "cell_type": "code",
   "execution_count": 7,
   "metadata": {
    "collapsed": true
   },
   "outputs": [],
   "source": [
    "cortex_size = 48\n",
    "cortex_shape = (cortex_size, cortex_size)\n",
    "radius_aff = 0.27083 * 24\n",
    "radius_excit = 0.10417* cortex_size\n",
    "radius_inhib = 0.22917*cortex_size\n",
    "aff_factor = 1.0\n",
    "excit_factor = 0.9\n",
    "inhib_factor = 0.9\n",
    "min_theta = 0.083\n",
    "max_theta = 0.633\n",
    "v1_params = {'min_theta':min_theta, 'max_theta':max_theta, \n",
    "             'afferent_radius':radius_aff, 'excitatory_radius':radius_excit, 'inhibitory_radius':radius_inhib, \n",
    "             'inhib_factor':inhib_factor, 'excit_factor':excit_factor, 'aff_factor':aff_factor, \n",
    "             'settling_steps':9}"
   ]
  },
  {
   "cell_type": "code",
   "execution_count": 8,
   "metadata": {},
   "outputs": [
    {
     "data": {
      "text/plain": [
       "{'aff_factor': 1.0,\n",
       " 'afferent_radius': 6.49992,\n",
       " 'excit_factor': 0.9,\n",
       " 'excitatory_radius': 5.00016,\n",
       " 'inhib_factor': 0.9,\n",
       " 'inhibitory_radius': 11.000160000000001,\n",
       " 'max_theta': 0.633,\n",
       " 'min_theta': 0.083,\n",
       " 'settling_steps': 9}"
      ]
     },
     "metadata": {},
     "output_type": "display_data"
    }
   ],
   "source": [
    "display(v1_params)"
   ]
  },
  {
   "cell_type": "code",
   "execution_count": 9,
   "metadata": {
    "scrolled": false
   },
   "outputs": [],
   "source": [
    "lissom, _, _ = get_lissom(size, lgn_size, cortex_size, lgn_params='lgn_orientations', rlissom_params='rlissom_orientations')"
   ]
  },
  {
   "cell_type": "code",
   "execution_count": 11,
   "metadata": {},
   "outputs": [
    {
     "data": {
      "text/plain": [
       "Lissom (\n",
       "  (v1): ReducedLissom (\n",
       "    (inhibitory_module): Cortex (2304 -> 2304, sigma=22.8803328, radius=11.000160000000001)\n",
       "    (excitatory_module): Cortex (2304 -> 2304, sigma=3.9001248000000004, radius=5.00016)\n",
       "    (afferent_module): Cortex (1296 -> 2304, sigma=4.999938461538462, radius=6.49992)\n",
       "    (piecewise_sigmoid): PiecewiseSigmoid (min_theta=0.083, max_theta=0.633)\n",
       "  , 1296 -> 2304, settling_steps=9, afferent_strength=1, excitatory_strength=0.9, inhibitory_strength=0.9)\n",
       "  (off): LGN (\n",
       "    (diff_of_gaussians): DifferenceOfGaussiansLinear (2916 -> 1296, sigma_surround=3.5448, sigma_center=0.8862, radius=13.5, on=False)\n",
       "    (strength): *2.33\n",
       "    (piecewise_sigmoid): PiecewiseSigmoid (min_theta=0.0, max_theta=1.0)\n",
       "  )\n",
       "  (on): LGN (\n",
       "    (diff_of_gaussians): DifferenceOfGaussiansLinear (2916 -> 1296, sigma_surround=3.5448, sigma_center=0.8862, radius=13.5, on=True)\n",
       "    (strength): *2.33\n",
       "    (piecewise_sigmoid): PiecewiseSigmoid (min_theta=0.0, max_theta=1.0)\n",
       "  )\n",
       ", 2916 -> 2304)"
      ]
     },
     "metadata": {},
     "output_type": "display_data"
    }
   ],
   "source": [
    "display(lissom)"
   ]
  },
  {
   "cell_type": "code",
   "execution_count": 15,
   "metadata": {
    "scrolled": false
   },
   "outputs": [],
   "source": [
    "aff_lr = 0.9590\n",
    "exc_lr = 2.55528\n",
    "inh_lr = 1.80873\n",
    "optimizer = SequentialOptimizer(\n",
    "                CortexHebbian(cortex=lissom.v1.afferent_module, learning_rate=aff_lr),\n",
    "                CortexHebbian(cortex=lissom.v1.excitatory_module, learning_rate=exc_lr),\n",
    "                CortexHebbian(cortex=lissom.v1.inhibitory_module, learning_rate=inh_lr))"
   ]
  },
  {
   "cell_type": "code",
   "execution_count": 16,
   "metadata": {},
   "outputs": [
    {
     "ename": "NameError",
     "evalue": "name 'gaussians_inputs' is not defined",
     "output_type": "error",
     "traceback": [
      "\u001b[0;31m---------------------------------------------------------------------------\u001b[0m",
      "\u001b[0;31mNameError\u001b[0m                                 Traceback (most recent call last)",
      "\u001b[0;32m<ipython-input-16-2ef0727ea6b7>\u001b[0m in \u001b[0;36m<module>\u001b[0;34m()\u001b[0m\n\u001b[1;32m      1\u001b[0m \u001b[0;32mfrom\u001b[0m \u001b[0msrc\u001b[0m\u001b[0;34m.\u001b[0m\u001b[0mutils\u001b[0m\u001b[0;34m.\u001b[0m\u001b[0mpipeline\u001b[0m \u001b[0;32mimport\u001b[0m \u001b[0mPipeline\u001b[0m\u001b[0;34m\u001b[0m\u001b[0m\n\u001b[1;32m      2\u001b[0m \u001b[0;32mfrom\u001b[0m \u001b[0mtorch\u001b[0m\u001b[0;34m.\u001b[0m\u001b[0mutils\u001b[0m\u001b[0;34m.\u001b[0m\u001b[0mdata\u001b[0m \u001b[0;32mimport\u001b[0m \u001b[0mDataset\u001b[0m\u001b[0;34m,\u001b[0m \u001b[0mDataLoader\u001b[0m\u001b[0;34m\u001b[0m\u001b[0m\n\u001b[0;32m----> 3\u001b[0;31m \u001b[0mtrain_loader\u001b[0m \u001b[0;34m=\u001b[0m \u001b[0mDataLoader\u001b[0m\u001b[0;34m(\u001b[0m\u001b[0mgaussians_inputs\u001b[0m\u001b[0;34m,\u001b[0m \u001b[0mshuffle\u001b[0m\u001b[0;34m=\u001b[0m\u001b[0;32mTrue\u001b[0m\u001b[0;34m,\u001b[0m \u001b[0mpin_memory\u001b[0m\u001b[0;34m=\u001b[0m\u001b[0;32mTrue\u001b[0m\u001b[0;34m)\u001b[0m\u001b[0;34m\u001b[0m\u001b[0m\n\u001b[0m\u001b[1;32m      4\u001b[0m \u001b[0mpipe\u001b[0m \u001b[0;34m=\u001b[0m \u001b[0mPipeline\u001b[0m\u001b[0;34m(\u001b[0m\u001b[0mlissom\u001b[0m\u001b[0;34m,\u001b[0m \u001b[0moptimizer\u001b[0m\u001b[0;34m,\u001b[0m \u001b[0mcuda\u001b[0m\u001b[0;34m=\u001b[0m\u001b[0;32mTrue\u001b[0m\u001b[0;34m,\u001b[0m \u001b[0mlog_interval\u001b[0m\u001b[0;34m=\u001b[0m\u001b[0;36m100\u001b[0m\u001b[0;34m)\u001b[0m\u001b[0;34m\u001b[0m\u001b[0m\n",
      "\u001b[0;31mNameError\u001b[0m: name 'gaussians_inputs' is not defined"
     ]
    }
   ],
   "source": [
    "from src.utils.pipeline import Pipeline\n",
    "from torch.utils.data import Dataset, DataLoader\n",
    "train_loader = DataLoader(gaussians_inputs, shuffle=True, pin_memory=True)\n",
    "pipe = Pipeline(lissom, optimizer, cuda=True, log_interval=100)"
   ]
  },
  {
   "cell_type": "code",
   "execution_count": null,
   "metadata": {
    "collapsed": true,
    "scrolled": true
   },
   "outputs": [],
   "source": [
    "from tqdm import tqdm_notebook as tqdm\n",
    "for epoch in tqdm(range(epochs)):\n",
    "    pipe.train(train_loader, epoch)"
   ]
  },
  {
   "cell_type": "code",
   "execution_count": null,
   "metadata": {
    "collapsed": true
   },
   "outputs": [],
   "source": [
    "from src.utils.datasets import CKDataset\n",
    "size = 96\n",
    "ck_dataset = CKDataset()\n",
    "from torch.utils.data import DataLoader\n",
    "train_loader = DataLoader(ck_dataset, shuffle=True, pin_memory=True)"
   ]
  },
  {
   "cell_type": "code",
   "execution_count": null,
   "metadata": {},
   "outputs": [],
   "source": [
    "from src.utils.pipeline import Pipeline\n",
    "lissom.cuda()\n",
    "for inp, _ in train_loader:\n",
    "    inp = torch.autograd.Variable(inp)\n",
    "    inp = Pipeline.process_input(inp)\n",
    "    inp = inp.cuda()\n",
    "    act = lissom(inp)\n",
    "    plot_matrix(np.reshape(act.data.cpu().numpy(), cortex_shape))\n",
    "    break"
   ]
  },
  {
   "cell_type": "code",
   "execution_count": 18,
   "metadata": {
    "scrolled": true
   },
   "outputs": [
    {
     "ename": "NameError",
     "evalue": "name 'generate_all_inputs' is not defined",
     "output_type": "error",
     "traceback": [
      "\u001b[0;31m---------------------------------------------------------------------------\u001b[0m",
      "\u001b[0;31mNameError\u001b[0m                                 Traceback (most recent call last)",
      "\u001b[0;32m<ipython-input-18-df9cec80c5bd>\u001b[0m in \u001b[0;36m<module>\u001b[0;34m()\u001b[0m\n\u001b[1;32m      1\u001b[0m \u001b[0;32mimport\u001b[0m \u001b[0msrc\u001b[0m\u001b[0;34m.\u001b[0m\u001b[0msupervised_gcal\u001b[0m\u001b[0;34m.\u001b[0m\u001b[0morientation_maps\u001b[0m \u001b[0;32mas\u001b[0m \u001b[0mom\u001b[0m\u001b[0;34m\u001b[0m\u001b[0m\n\u001b[1;32m      2\u001b[0m \u001b[0;34m\u001b[0m\u001b[0m\n\u001b[0;32m----> 3\u001b[0;31m \u001b[0mkeys_arrays\u001b[0m \u001b[0;34m=\u001b[0m \u001b[0mgenerate_all_inputs\u001b[0m\u001b[0;34m(\u001b[0m\u001b[0msize\u001b[0m\u001b[0;34m,\u001b[0m \u001b[0morientations\u001b[0m\u001b[0;34m=\u001b[0m\u001b[0;36m25\u001b[0m\u001b[0;34m)\u001b[0m\u001b[0;34m\u001b[0m\u001b[0m\n\u001b[0m\u001b[1;32m      4\u001b[0m \u001b[0mactivations\u001b[0m \u001b[0;34m=\u001b[0m \u001b[0mom\u001b[0m\u001b[0;34m.\u001b[0m\u001b[0mcalculate_keys_activations\u001b[0m\u001b[0;34m(\u001b[0m\u001b[0mlissom\u001b[0m\u001b[0;34m,\u001b[0m \u001b[0mkeys_arrays\u001b[0m\u001b[0;34m)\u001b[0m\u001b[0;34m\u001b[0m\u001b[0m\n",
      "\u001b[0;31mNameError\u001b[0m: name 'generate_all_inputs' is not defined"
     ]
    }
   ],
   "source": [
    "import src.supervised_gcal.orientation_maps as om\n",
    "\n",
    "keys_arrays = generate_all_inputs(size, orientations=25)\n",
    "activations = om.calculate_keys_activations(lissom, keys_arrays)"
   ]
  },
  {
   "cell_type": "code",
   "execution_count": null,
   "metadata": {
    "collapsed": true,
    "scrolled": true
   },
   "outputs": [],
   "source": [
    "from src.utils.images import plot_array_matrix\n",
    "from src.supervised_gcal.utils.images import images_matrix\n",
    "plot_array_matrix(map(lambda x:x.view(cortex_size, cortex_size).cpu().numpy(), list(activations.values())))"
   ]
  },
  {
   "cell_type": "code",
   "execution_count": null,
   "metadata": {
    "collapsed": true,
    "scrolled": true
   },
   "outputs": [],
   "source": [
    "from src.supervised_gcal.utils.orientation_maps import get_orientation_map\n",
    "orientation_map = get_orientation_map(activations, cortex_shape)\n",
    "%matplotlib inline\n",
    "plt.figure(figsize=(5, 5))\n",
    "plt.colorbar()"
   ]
  },
  {
   "cell_type": "code",
   "execution_count": null,
   "metadata": {
    "collapsed": true
   },
   "outputs": [],
   "source": [
    "from collections import Counter\n",
    "\n",
    "plt.show()\n",
    "\n",
    "print(\"Promedio: {}\".format(np.mean(normalized)))\n",
    "print(\"Standard deviation: {}\".format(np.std(normalized)))"
   ]
  }
 ],
 "metadata": {
  "kernelspec": {
   "display_name": "Python 3",
   "language": "python",
   "name": "python3"
  },
  "language_info": {
   "codemirror_mode": {
    "name": "ipython",
    "version": 3
   },
   "file_extension": ".py",
   "mimetype": "text/x-python",
   "name": "python",
   "nbconvert_exporter": "python",
   "pygments_lexer": "ipython3",
   "version": "3.6.2"
  }
 },
 "nbformat": 4,
 "nbformat_minor": 2
}
